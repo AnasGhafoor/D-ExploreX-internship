{
 "cells": [
  {
   "cell_type": "markdown",
   "id": "35b5ba6c-d9f5-4cfd-a002-6108a3ef39d6",
   "metadata": {},
   "source": [
    "Task no 1"
   ]
  },
  {
   "cell_type": "code",
   "execution_count": 37,
   "id": "a6f5428d-5380-4e0f-a233-b2162972c1c6",
   "metadata": {},
   "outputs": [
    {
     "name": "stdin",
     "output_type": "stream",
     "text": [
      "enter your name ali\n",
      "enter your age 556\n"
     ]
    },
    {
     "name": "stdout",
     "output_type": "stream",
     "text": [
      "Hello ali !  !you are 556 year old\n"
     ]
    }
   ],
   "source": [
    "a=input(\"enter your name\")\n",
    "b=input(\"enter your age\")\n",
    "print (\"Hello\",a,\"!\",\" you are\",b,\"year old\")"
   ]
  },
  {
   "cell_type": "markdown",
   "id": "1f313207-4c30-475d-b9bf-987eb773f912",
   "metadata": {},
   "source": [
    "Task no 2"
   ]
  },
  {
   "cell_type": "code",
   "execution_count": 25,
   "id": "47000c68-667e-4c43-a69e-72dd490ffbfe",
   "metadata": {},
   "outputs": [
    {
     "name": "stdin",
     "output_type": "stream",
     "text": [
      "length of rectangle 4.4\n",
      "width of rectangle 2.3\n"
     ]
    },
    {
     "name": "stdout",
     "output_type": "stream",
     "text": [
      "Area of rectangle is 10.12\n"
     ]
    }
   ],
   "source": [
    "length=float(input(\"length of rectangle\"))\n",
    "width=float(input(\"width of rectangle\")) \n",
    "Area= length*width\n",
    "print(\"Area of rectangle is\",Area)"
   ]
  },
  {
   "cell_type": "markdown",
   "id": "3ae3b2e0-0a66-44e7-b808-ed8e038d1473",
   "metadata": {},
   "source": [
    "Task no 3:"
   ]
  },
  {
   "cell_type": "code",
   "execution_count": 38,
   "id": "627b5918-19ed-45dd-9ea3-2b793ebf7262",
   "metadata": {},
   "outputs": [
    {
     "name": "stdin",
     "output_type": "stream",
     "text": [
      "Tem in cel 22.7\n"
     ]
    },
    {
     "name": "stdout",
     "output_type": "stream",
     "text": [
      "temp in fahrenheit 72.86\n"
     ]
    }
   ],
   "source": [
    "temp=float(input(\"Tem in cel\"))\n",
    "F=(temp*(9/5))+32\n",
    "print(\"temp in fahrenheit\",F)"
   ]
  },
  {
   "cell_type": "code",
   "execution_count": 2,
   "id": "4ecb3864-8c9a-4e18-a798-955f199d88bd",
   "metadata": {},
   "outputs": [
    {
     "name": "stdin",
     "output_type": "stream",
     "text": [
      "price of an item 100\n",
      "sales tex rate 2\n"
     ]
    },
    {
     "name": "stdout",
     "output_type": "stream",
     "text": [
      "total-amount 102.0\n"
     ]
    }
   ],
   "source": [
    "price=int(input(\"price of an item\"))\n",
    "tax=float(input(\"sales tex rate\"))\n",
    "texrate=(tax/100)*price\n",
    "totalamount=texrate+price\n",
    "print(\"total-amount\",totalamount)"
   ]
  },
  {
   "cell_type": "markdown",
   "id": "d689d234-1960-4100-b9cd-1000cc08cb85",
   "metadata": {},
   "source": [
    "Task no 7"
   ]
  },
  {
   "cell_type": "code",
   "execution_count": 10,
   "id": "e3400634-a6af-4dc4-89fb-7d02d1750918",
   "metadata": {},
   "outputs": [
    {
     "name": "stdin",
     "output_type": "stream",
     "text": [
      "length in inches 100\n"
     ]
    },
    {
     "name": "stdout",
     "output_type": "stream",
     "text": [
      "length in feets=  8.333333333333334\n"
     ]
    }
   ],
   "source": [
    "length=float(input(\"length in inches\"))\n",
    "feet=(length/12)\n",
    "print(\"length in feets= \",feet)\n"
   ]
  },
  {
   "cell_type": "code",
   "execution_count": null,
   "id": "1e5407c2-1303-411f-98bb-420b35ac90fb",
   "metadata": {},
   "outputs": [],
   "source": [
    "Task 8"
   ]
  },
  {
   "cell_type": "code",
   "execution_count": 19,
   "id": "9d337a9b-c4b4-423f-8278-e2fae83fd3b5",
   "metadata": {},
   "outputs": [
    {
     "name": "stdin",
     "output_type": "stream",
     "text": [
      "height of triangle 44.0\n",
      "base of triangle 3.0\n"
     ]
    },
    {
     "name": "stdout",
     "output_type": "stream",
     "text": [
      "Area of triangle is= 66.0\n"
     ]
    }
   ],
   "source": [
    "Height=float(input(\"height of triangle\"))\n",
    "Base=float(input(\"base of triangle\"))\n",
    "Area_of_triangle=Base*Height/2\n",
    "print(\"Area of triangle is=\",Area_of_triangle)"
   ]
  },
  {
   "cell_type": "code",
   "execution_count": null,
   "id": "1b14c39d-c005-4916-be68-a9099303abdf",
   "metadata": {},
   "outputs": [],
   "source": [
    "task 9"
   ]
  },
  {
   "cell_type": "code",
   "execution_count": 21,
   "id": "1005652a-181b-4d8e-91c5-d15d63026d29",
   "metadata": {},
   "outputs": [
    {
     "name": "stdin",
     "output_type": "stream",
     "text": [
      "height of rectangular 44.4\n",
      "width of triangle 33.34\n",
      "length of rectangular 44.1\n"
     ]
    },
    {
     "name": "stdout",
     "output_type": "stream",
     "text": [
      "volume of rectangular prism= 65281.05360000001\n"
     ]
    }
   ],
   "source": [
    "Height=float(input(\"height of rectangular\"))\n",
    "Width=float(input(\"width of triangle\"))\n",
    "Length=float(input(\"length of rectangular\"))\n",
    "vol_prism=Height*Width*Length\n",
    "print(\"volume of rectangular prism=\",vol_prism)"
   ]
  },
  {
   "cell_type": "code",
   "execution_count": null,
   "id": "8a076467-93ea-4888-b97d-bb5b3d30eb94",
   "metadata": {},
   "outputs": [],
   "source": [
    "task no 10"
   ]
  },
  {
   "cell_type": "code",
   "execution_count": 23,
   "id": "04f4ee03-f49b-445e-a045-f7a6db2f80fe",
   "metadata": {},
   "outputs": [
    {
     "name": "stdin",
     "output_type": "stream",
     "text": [
      "radious of a circle 23\n"
     ]
    },
    {
     "name": "stdout",
     "output_type": "stream",
     "text": [
      "the circle circumference is= 144.44\n"
     ]
    }
   ],
   "source": [
    "r=float(input(\"radious of a circle\"))\n",
    "circumference=2*3.14*r\n",
    "print(\"the circle circumference is=\",circumference)"
   ]
  },
  {
   "cell_type": "code",
   "execution_count": null,
   "id": "ac1fc84f-06a5-4ca6-87f8-c15da307014c",
   "metadata": {},
   "outputs": [],
   "source": [
    "task 6"
   ]
  },
  {
   "cell_type": "code",
   "execution_count": 26,
   "id": "91855f78-db0f-435f-aa98-214ce68aaefe",
   "metadata": {},
   "outputs": [
    {
     "name": "stdin",
     "output_type": "stream",
     "text": [
      "total bill amount 4000\n"
     ]
    },
    {
     "ename": "TypeError",
     "evalue": "unsupported operand type(s) for /: 'str' and 'int'",
     "output_type": "error",
     "traceback": [
      "\u001b[1;31m---------------------------------------------------------------------------\u001b[0m",
      "\u001b[1;31mTypeError\u001b[0m                                 Traceback (most recent call last)",
      "Cell \u001b[1;32mIn[26], line 2\u001b[0m\n\u001b[0;32m      1\u001b[0m total_bill\u001b[38;5;241m=\u001b[39m\u001b[38;5;28minput\u001b[39m(\u001b[38;5;124m\"\u001b[39m\u001b[38;5;124mtotal bill amount\u001b[39m\u001b[38;5;124m\"\u001b[39m)\n\u001b[1;32m----> 2\u001b[0m tip_p\u001b[38;5;241m=\u001b[39mtotal_bill\u001b[38;5;241m+\u001b[39m(\u001b[43mtotal_bill\u001b[49m\u001b[38;5;241;43m/\u001b[39;49m\u001b[38;5;241;43m100\u001b[39;49m)\n\u001b[0;32m      3\u001b[0m \u001b[38;5;28mprint\u001b[39m(\u001b[38;5;124m\"\u001b[39m\u001b[38;5;124mtotal amont of bill\u001b[39m\u001b[38;5;124m\"\u001b[39m,tip_p)\n",
      "\u001b[1;31mTypeError\u001b[0m: unsupported operand type(s) for /: 'str' and 'int'"
     ]
    }
   ],
   "source": [
    "total_bill=input(\"total bill amount\")\n",
    "s\n",
    "tip_p=total_bill+(total_bill/100)\n",
    "print(\"total amont of bill\",tip_p)"
   ]
  },
  {
   "cell_type": "code",
   "execution_count": null,
   "id": "766ea215-8a2c-415e-a40d-46e15d6611f4",
   "metadata": {},
   "outputs": [],
   "source": []
  }
 ],
 "metadata": {
  "kernelspec": {
   "display_name": "Python 3 (ipykernel)",
   "language": "python",
   "name": "python3"
  },
  "language_info": {
   "codemirror_mode": {
    "name": "ipython",
    "version": 3
   },
   "file_extension": ".py",
   "mimetype": "text/x-python",
   "name": "python",
   "nbconvert_exporter": "python",
   "pygments_lexer": "ipython3",
   "version": "3.12.4"
  }
 },
 "nbformat": 4,
 "nbformat_minor": 5
}
