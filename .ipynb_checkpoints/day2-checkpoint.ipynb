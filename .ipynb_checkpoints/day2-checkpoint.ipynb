{
 "cells": [
  {
   "cell_type": "code",
   "execution_count": 5,
   "id": "2d598fe5-b7ab-4462-a101-5345bd3c359a",
   "metadata": {},
   "outputs": [
    {
     "name": "stdin",
     "output_type": "stream",
     "text": [
      "Enter the height of rectangle 4.5\n",
      "Enter the width of rectangle 3.5\n"
     ]
    },
    {
     "name": "stdout",
     "output_type": "stream",
     "text": [
      "15.75\n"
     ]
    }
   ],
   "source": [
    "height= float(input(\"Enter the height of rectangle\"))\n",
    "width= float(input(\"Enter the width of rectangle\") )\n",
    "Area =   height*width   \n",
    "print (Area)"
   ]
  },
  {
   "cell_type": "code",
   "execution_count": 8,
   "id": "4d280ee8-a9e5-46d4-969f-927da3da1b21",
   "metadata": {},
   "outputs": [
    {
     "name": "stdin",
     "output_type": "stream",
     "text": [
      "enter the value of a 4\n"
     ]
    },
    {
     "name": "stdout",
     "output_type": "stream",
     "text": [
      "16\n"
     ]
    }
   ],
   "source": [
    "a=int(input(\"enter the value of a\"))\n",
    "a=a**2\n",
    "print(a)"
   ]
  },
  {
   "cell_type": "code",
   "execution_count": 17,
   "id": "ee252527-14b7-49c8-ba56-d159bab58585",
   "metadata": {},
   "outputs": [
    {
     "name": "stdin",
     "output_type": "stream",
     "text": [
      "enter the value of a 3\n",
      "enter the value of b 6\n"
     ]
    },
    {
     "name": "stdout",
     "output_type": "stream",
     "text": [
      "value of c 9.0 \n",
      " value of d 18.0 \n",
      " value of e -3.0 \n",
      " value of f 0.5\n"
     ]
    }
   ],
   "source": [
    "a=float(input(\"enter the value of a\"))\n",
    "b=float(input(\"enter the value of b\"))\n",
    "c=a+b\n",
    "d=a*b\n",
    "e=a-b\n",
    "f=a/b\n",
    "print(\"value of c\",c ,\"\\n value of d\",d, \"\\n value of e\",e, \"\\n value of f\",f)"
   ]
  },
  {
   "cell_type": "code",
   "execution_count": null,
   "id": "f5a9735f-1e91-43d0-9102-ceb89b9fd674",
   "metadata": {},
   "outputs": [],
   "source": []
  }
 ],
 "metadata": {
  "kernelspec": {
   "display_name": "Python 3 (ipykernel)",
   "language": "python",
   "name": "python3"
  },
  "language_info": {
   "codemirror_mode": {
    "name": "ipython",
    "version": 3
   },
   "file_extension": ".py",
   "mimetype": "text/x-python",
   "name": "python",
   "nbconvert_exporter": "python",
   "pygments_lexer": "ipython3",
   "version": "3.12.4"
  }
 },
 "nbformat": 4,
 "nbformat_minor": 5
}
