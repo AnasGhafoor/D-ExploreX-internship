{
 "cells": [
  {
   "cell_type": "code",
   "execution_count": 36,
   "id": "e57a5e8b-804e-4bef-89b5-de31da6a4663",
   "metadata": {},
   "outputs": [
    {
     "name": "stdin",
     "output_type": "stream",
     "text": [
      "enter purchase amount 40000\n",
      "describe your country canada\n",
      "describe province New Burnswich\n"
     ]
    },
    {
     "name": "stdout",
     "output_type": "stream",
     "text": [
      "total amount 40052.0\n"
     ]
    }
   ],
   "source": [
    "amount=int(input(\"enter purchase amount\"))\n",
    "country=input(\"describe your country\")\n",
    "\n",
    "if country == \"canada\":\n",
    "    province=input(\"describe province\")\n",
    "    if(province==\"Alberta\"):\n",
    "        tex=0.5/100*amount\n",
    "        t_amount=  tex+amount\n",
    "        print(\"total_amount\",t_amount)\n",
    "    elif(province==\"Ontario\" or province==\"New Burnswich\" or province==\"Nova Scotia\" ):\n",
    "        tex=0.13/100*amount\n",
    "        t_amount=tex+amount\n",
    "        print(\"total amount\",t_amount)\n",
    "    else:\n",
    "        pst=0.6/100*amount\n",
    "        gst=0.5/100*amount\n",
    "        t_amount=pst+gst+amount\n",
    "        print(\"total amount\",t_amount)\n",
    "else:\n",
    "    print(\"country is not canada and the total amount is:\",amount)\n",
    "\n",
    "        "
   ]
  },
  {
   "cell_type": "markdown",
   "id": "4137a84f-bc85-4524-96d7-57f6eff98639",
   "metadata": {},
   "source": [
    "#### "
   ]
  },
  {
   "cell_type": "code",
   "execution_count": null,
   "id": "56fa3fd9-d717-4606-8cc2-a90c2e71b7c6",
   "metadata": {},
   "outputs": [],
   "source": []
  }
 ],
 "metadata": {
  "kernelspec": {
   "display_name": "Python 3 (ipykernel)",
   "language": "python",
   "name": "python3"
  },
  "language_info": {
   "codemirror_mode": {
    "name": "ipython",
    "version": 3
   },
   "file_extension": ".py",
   "mimetype": "text/x-python",
   "name": "python",
   "nbconvert_exporter": "python",
   "pygments_lexer": "ipython3",
   "version": "3.12.4"
  }
 },
 "nbformat": 4,
 "nbformat_minor": 5
}
