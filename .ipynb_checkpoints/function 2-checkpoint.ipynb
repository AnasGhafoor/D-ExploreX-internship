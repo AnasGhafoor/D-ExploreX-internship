{
 "cells": [
  {
   "cell_type": "code",
   "execution_count": null,
   "id": "a87fd3fe-cdee-407d-9858-0bb2169440ac",
   "metadata": {},
   "outputs": [],
   "source": [
    " Task no 2\n",
    "Grade Calculator: Calculate a student's grade based on their score (out of 100)"
   ]
  },
  {
   "cell_type": "code",
   "execution_count": 2,
   "id": "a7ad422e-ff5c-426f-a71d-efb56ac756de",
   "metadata": {},
   "outputs": [
    {
     "name": "stdin",
     "output_type": "stream",
     "text": [
      "Enter your marks 65\n"
     ]
    },
    {
     "name": "stdout",
     "output_type": "stream",
     "text": [
      "D\n"
     ]
    }
   ],
   "source": [
    "def m_input():\n",
    "    marks=int(input(\"Enter your marks\"))\n",
    "    return marks\n",
    "def calculation(marks):\n",
    "    if(marks>=90):\n",
    "        return(\"A\")\n",
    "    elif(marks>=80):\n",
    "        return(\"B\")\n",
    "    elif(marks>=70):\n",
    "        return(\"C\")\n",
    "    elif(marks>=60):\n",
    "        return(\"D\")\n",
    "    else:\n",
    "        return(\"F\")\n",
    "def outputt():\n",
    "    print(s)\n",
    "marks=m_input()\n",
    "s=calculation(marks)\n",
    "outputt()"
   ]
  },
  {
   "cell_type": "code",
   "execution_count": null,
   "id": "f37e7e28-0836-49c6-981f-a8879d830968",
   "metadata": {},
   "outputs": [],
   "source": []
  },
  {
   "cell_type": "code",
   "execution_count": 3,
   "id": "df1afd55-2b7e-4985-851e-1f1aaf0653e3",
   "metadata": {},
   "outputs": [
    {
     "name": "stdin",
     "output_type": "stream",
     "text": [
      "Enter a year 2005\n"
     ]
    },
    {
     "name": "stdout",
     "output_type": "stream",
     "text": [
      "y is not leap Year\n"
     ]
    }
   ],
   "source": [
    "def m_inputt():\n",
    "    y=int(input(\"Enter a year\"))\n",
    "    return y\n",
    "def calculatio(y):    \n",
    "    if(y%4==0):\n",
    "        return(\"y is leap Year\")\n",
    "    else:\n",
    "        return(\"y is not leap Year\") \n",
    "def outputtt():\n",
    "    print(s)\n",
    "y=m_inputt()  \n",
    "s=calculatio(marks)\n",
    "outputtt()"
   ]
  },
  {
   "cell_type": "code",
   "execution_count": null,
   "id": "04066bf3-4f6a-4f12-8e85-a49545a34889",
   "metadata": {},
   "outputs": [],
   "source": []
  },
  {
   "cell_type": "code",
   "execution_count": 6,
   "id": "ac06db9a-645a-47c6-a42a-221e165220ba",
   "metadata": {},
   "outputs": [
    {
     "name": "stdin",
     "output_type": "stream",
     "text": [
      "Enter a number 5\n",
      "Enter a number 7\n"
     ]
    },
    {
     "name": "stdout",
     "output_type": "stream",
     "text": [
      "Y is Grater\n",
      "None\n"
     ]
    }
   ],
   "source": [
    "def m_inputtt():\n",
    "    X=int(input(\"Enter a number\"))\n",
    "    Y=int(input(\"Enter a number\"))\n",
    "    return X,Y\n",
    "def valuee(X,Y):\n",
    "    if(X>Y):\n",
    "        print(\"X is grater\")\n",
    "    else:\n",
    "        print(\"Y is Grater\") \n",
    "def outputtt():\n",
    "    print (s)\n",
    "X,Y=m_inputtt()\n",
    "s=valuee(X,Y)\n",
    "outputtt()"
   ]
  },
  {
   "cell_type": "code",
   "execution_count": null,
   "id": "f396751d-df5c-4862-b438-b5790106cb90",
   "metadata": {},
   "outputs": [],
   "source": []
  }
 ],
 "metadata": {
  "kernelspec": {
   "display_name": "Python 3 (ipykernel)",
   "language": "python",
   "name": "python3"
  },
  "language_info": {
   "codemirror_mode": {
    "name": "ipython",
    "version": 3
   },
   "file_extension": ".py",
   "mimetype": "text/x-python",
   "name": "python",
   "nbconvert_exporter": "python",
   "pygments_lexer": "ipython3",
   "version": "3.12.4"
  }
 },
 "nbformat": 4,
 "nbformat_minor": 5
}
