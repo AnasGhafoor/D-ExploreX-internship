{
 "cells": [
  {
   "cell_type": "code",
   "execution_count": 6,
   "id": "7e430f4f-22b7-46a6-be9c-abee287fd8bb",
   "metadata": {},
   "outputs": [
    {
     "name": "stdin",
     "output_type": "stream",
     "text": [
      "enter your name hello\n",
      "enter your age ahmad\n"
     ]
    },
    {
     "name": "stdout",
     "output_type": "stream",
     "text": [
      "Hello hello !  you are ahmad year old\n"
     ]
    }
   ],
   "source": [
    "def con_input():\n",
    "    a=input(\"enter your name\")\n",
    "    b=input(\"enter your age\")\n",
    "    return a,b\n",
    "def concatination(a,b):\n",
    "    print (\"Hello\",a,\"!\",\" you are\",b,\"year old\")\n",
    "a,b=con_input()\n",
    "concatination(a,b)"
   ]
  },
  {
   "cell_type": "code",
   "execution_count": 6,
   "id": "e28585c3-88ec-4dd7-8be8-e912e4e119e5",
   "metadata": {},
   "outputs": [
    {
     "name": "stdin",
     "output_type": "stream",
     "text": [
      "length of rectangle 5\n",
      "width of rectangle 6\n"
     ]
    },
    {
     "name": "stdout",
     "output_type": "stream",
     "text": [
      "Area of rectangle is 30.0\n"
     ]
    }
   ],
   "source": [
    "def A_input():\n",
    "    length=float(input(\"length of rectangle\"))\n",
    "    width=float(input(\"width of rectangle\")) \n",
    "    return length,width\n",
    "def Area(length,width): \n",
    "    Area= length*width\n",
    "    print(\"Area of rectangle is\",Area)\n",
    "length,width= A_input()    \n",
    "Area(length,width)"
   ]
  },
  {
   "cell_type": "code",
   "execution_count": 4,
   "id": "0c3ab8fa-034a-4972-bbc4-5f8a05930995",
   "metadata": {},
   "outputs": [
    {
     "name": "stdin",
     "output_type": "stream",
     "text": [
      "Tem in cel 22\n"
     ]
    },
    {
     "name": "stdout",
     "output_type": "stream",
     "text": [
      "temp in fahrenheit 71.6\n"
     ]
    }
   ],
   "source": [
    "def temp():\n",
    "    temp=float(input(\"Tem in cel\"))\n",
    "    F=(temp*(9/5))+32\n",
    "    print(\"temp in fahrenheit\",F)\n",
    "temp()    "
   ]
  },
  {
   "cell_type": "code",
   "execution_count": 8,
   "id": "80a9f51f-cf64-496f-ab48-5b0736bd2d97",
   "metadata": {},
   "outputs": [
    {
     "name": "stdin",
     "output_type": "stream",
     "text": [
      "price of an item 3\n",
      "sales tex rate 3\n"
     ]
    },
    {
     "name": "stdout",
     "output_type": "stream",
     "text": [
      "total-amount 3.09\n"
     ]
    }
   ],
   "source": [
    "def price():\n",
    "    price=int(input(\"price of an item\"))\n",
    "    tax=float(input(\"sales tex rate\"))\n",
    "    return price,tax\n",
    "def total_amount(price,tax):\n",
    "    texrate=(tax/100)*price\n",
    "    totalamount=texrate+price\n",
    "    print(\"total-amount\",totalamount)\n",
    "price,tax=price()    \n",
    "total_amount(price,tax)"
   ]
  },
  {
   "cell_type": "code",
   "execution_count": 3,
   "id": "0ca5526c-5d23-4bfb-ab0a-065ee3c9f5c9",
   "metadata": {},
   "outputs": [],
   "source": [
    "def con_input():\n",
    "    a=input(\"enter your name\")\n",
    "    b=input(\"enter your age\")\n",
    "    return a,b"
   ]
  },
  {
   "cell_type": "code",
   "execution_count": 9,
   "id": "9cae406d-8f5b-43af-9d42-9239b71d5979",
   "metadata": {},
   "outputs": [
    {
     "name": "stdin",
     "output_type": "stream",
     "text": [
      "length of rectangle 3\n",
      "width of rectangle 3\n"
     ]
    },
    {
     "name": "stdout",
     "output_type": "stream",
     "text": [
      "Area of rectangle is: 9.0\n"
     ]
    }
   ],
   "source": [
    "def inputt():\n",
    "    length=float(input(\"length of rectangle\"))\n",
    "    width=float(input(\"width of rectangle\")) \n",
    "    return length,width\n",
    "def Area(length,width):\n",
    "    Area=length*width\n",
    "    print(\"Area of rectangle is:\",Area)\n",
    "length,width=inputt()\n",
    "Area(length,width)"
   ]
  },
  {
   "cell_type": "code",
   "execution_count": 10,
   "id": "503196d7-23ff-416e-9253-73b5c6ea23c6",
   "metadata": {},
   "outputs": [
    {
     "name": "stdin",
     "output_type": "stream",
     "text": [
      "length of rectangle 4\n",
      "width of rectangle 5\n"
     ]
    },
    {
     "name": "stdout",
     "output_type": "stream",
     "text": [
      "the longer side is width\n"
     ]
    }
   ],
   "source": [
    "def longer_side(length,width):\n",
    "    if length>width:\n",
    "        print(\"the longer side is length\")\n",
    "    else:\n",
    "        print(\"the longer side is width\")\n",
    "length,width=inputt()\n",
    "longer_side(length,width)"
   ]
  },
  {
   "cell_type": "code",
   "execution_count": 12,
   "id": "9b83d1c7-35f2-489c-af43-02259d69883d",
   "metadata": {},
   "outputs": [
    {
     "name": "stdin",
     "output_type": "stream",
     "text": [
      "length of rectangle 4\n",
      "width of rectangle 5\n"
     ]
    },
    {
     "name": "stdout",
     "output_type": "stream",
     "text": [
      "the parameter of rectangle 18.0\n"
     ]
    }
   ],
   "source": [
    "def calculate(length,width):\n",
    "    perimeter=2*(length+width)\n",
    "    print(\"the parameter of rectangle\",perimeter)\n",
    "length,width=inputt()\n",
    "calculate(length,width)"
   ]
  },
  {
   "cell_type": "code",
   "execution_count": 13,
   "id": "2f9f217e-7120-4c42-bca1-49a4d41c82e0",
   "metadata": {},
   "outputs": [
    {
     "name": "stdin",
     "output_type": "stream",
     "text": [
      "length of rectangle 4\n",
      "width of rectangle 5\n"
     ]
    },
    {
     "name": "stdout",
     "output_type": "stream",
     "text": [
      "no its not a squre\n"
     ]
    }
   ],
   "source": [
    "def shape(length,width):\n",
    "    if(length==width):\n",
    "        print(\"yes its a squre\")\n",
    "    else:\n",
    "         print(\"no its not a squre\")\n",
    "length,width=inputt()\n",
    "shape(length,width)"
   ]
  },
  {
   "cell_type": "code",
   "execution_count": 21,
   "id": "5403c0ab-187d-453b-b759-c5a93cbfadfa",
   "metadata": {},
   "outputs": [
    {
     "name": "stdin",
     "output_type": "stream",
     "text": [
      "enter a number 5\n",
      "enter a number 7\n"
     ]
    },
    {
     "name": "stdout",
     "output_type": "stream",
     "text": [
      "the grater numnber is   7\n"
     ]
    }
   ],
   "source": [
    "def N_input():\n",
    "    a=int(input(\"enter a number\"))\n",
    "    b=int(input(\"enter a number\"))\n",
    "    return a,b\n",
    "def check(a,b):\n",
    "    if a>b:\n",
    "        return a\n",
    "    else:\n",
    "        return b\n",
    "\n",
    "def inform(num):\n",
    "    print(\"the grater numnber is  \",num)\n",
    "a,b= N_input()\n",
    "num=check(a,b)\n",
    "inform(num)"
   ]
  },
  {
   "cell_type": "code",
   "execution_count": null,
   "id": "f854c932-7cdf-4bbf-864b-2c2f48fd56f7",
   "metadata": {},
   "outputs": [],
   "source": []
  }
 ],
 "metadata": {
  "kernelspec": {
   "display_name": "Python 3 (ipykernel)",
   "language": "python",
   "name": "python3"
  },
  "language_info": {
   "codemirror_mode": {
    "name": "ipython",
    "version": 3
   },
   "file_extension": ".py",
   "mimetype": "text/x-python",
   "name": "python",
   "nbconvert_exporter": "python",
   "pygments_lexer": "ipython3",
   "version": "3.12.4"
  }
 },
 "nbformat": 4,
 "nbformat_minor": 5
}
