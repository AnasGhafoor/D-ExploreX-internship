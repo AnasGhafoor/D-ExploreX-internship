{
 "cells": [
  {
   "cell_type": "code",
   "execution_count": 34,
   "id": "014adb53-4aae-4016-86e3-c72ba27e6063",
   "metadata": {},
   "outputs": [
    {
     "name": "stdin",
     "output_type": "stream",
     "text": [
      "Enter your work hour: 45\n",
      "Enter your hourly rate : 2\n",
      "Enter your bounous: 0\n"
     ]
    },
    {
     "name": "stdout",
     "output_type": "stream",
     "text": [
      "over time 5.0\n",
      "total salary  337.5\n"
     ]
    }
   ],
   "source": [
    "H_W=float(input(\"Enter your work hour:\"))\n",
    "H_R=float(input(\"Enter your hourly rate :\"))\n",
    "bounous=float(input(\"Enter your bounous:\"))\n",
    "if(H_W>40):\n",
    "    overtime=H_W-40\n",
    "    print (\"over time\",overtime)\n",
    "    amount=overtime*1.5*H_W\n",
    "    print(\"total salary \",amount)\n",
    "    \n",
    "else:\n",
    "    R_S=H_W*H_R\n",
    "    F_S=R_S+bounous\n",
    "    print(\"final salary is: \",F_S)\n",
    "    \n",
    "    "
   ]
  },
  {
   "cell_type": "markdown",
   "id": "39dc37dd-422f-49aa-885a-b6496f1e04f5",
   "metadata": {},
   "source": [
    "## "
   ]
  }
 ],
 "metadata": {
  "kernelspec": {
   "display_name": "Python 3 (ipykernel)",
   "language": "python",
   "name": "python3"
  },
  "language_info": {
   "codemirror_mode": {
    "name": "ipython",
    "version": 3
   },
   "file_extension": ".py",
   "mimetype": "text/x-python",
   "name": "python",
   "nbconvert_exporter": "python",
   "pygments_lexer": "ipython3",
   "version": "3.12.4"
  }
 },
 "nbformat": 4,
 "nbformat_minor": 5
}
