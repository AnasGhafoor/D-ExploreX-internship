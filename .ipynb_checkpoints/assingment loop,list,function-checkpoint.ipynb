{
 "cells": [
  {
   "cell_type": "code",
   "execution_count": 4,
   "id": "98b0eba1-28c0-4801-8c18-e87ca6ca410f",
   "metadata": {},
   "outputs": [
    {
     "name": "stdin",
     "output_type": "stream",
     "text": [
      "Enter the your temperature in Fahrenheit 44\n"
     ]
    },
    {
     "name": "stdout",
     "output_type": "stream",
     "text": [
      "This is the temperature in Celcius 6.666666666666667\n"
     ]
    }
   ],
   "source": [
    "def tem():\n",
    "    Fahrenheit=float(input(\"Enter the your temperature in Fahrenheit\"))\n",
    "    return Fahrenheit\n",
    "def celsiu(Fahrenheit):\n",
    "    celsius=(Fahrenheit-32)*5/9\n",
    "    print(\"This is the temperature in Celcius\",celsius)\n",
    "Fahrenheit=tem()\n",
    "celsiu(Fahrenheit)\n",
    "    "
   ]
  },
  {
   "cell_type": "code",
   "execution_count": 5,
   "id": "8b875e5d-ed18-4660-af5d-a26be5bffcda",
   "metadata": {},
   "outputs": [
    {
     "name": "stdin",
     "output_type": "stream",
     "text": [
      "Enter the number plz 23\n",
      "Enter the number 2 plz 2\n",
      "Enter the operator plz (+,-,*,/): *\n"
     ]
    },
    {
     "name": "stdout",
     "output_type": "stream",
     "text": [
      "This is the multiplication a*b= 46.0\n"
     ]
    }
   ],
   "source": [
    "def num():\n",
    "    a=float(input(\"Enter the number plz\"))\n",
    "    b=float(input(\"Enter the number 2 plz\"))\n",
    "    operator=input(\"Enter the operator plz (+,-,*,/):\")\n",
    "    return a,b,operator\n",
    "def processing(a,b,operator):\n",
    "    if operator=='+':\n",
    "        print (\"This is the sum of a+b=\",a+b)\n",
    "    elif operator== '-':\n",
    "        print(\"This is the subtraction of a-b=\",a-b) \n",
    "    elif operator== '*':\n",
    "        print(\"This is the multiplication a*b=\", a*b)\n",
    "    elif operator== '/':\n",
    "        print(\"This is the  division of a/b=\", a/b)\n",
    "    else:\n",
    "        print (\"The user is putting the wrong operator\")\n",
    "a,b,operator=num()\n",
    "processing(a,b,operator)"
   ]
  },
  {
   "cell_type": "code",
   "execution_count": 9,
   "id": "ef0f2e54-74e8-43a8-9606-57b91793437d",
   "metadata": {},
   "outputs": [
    {
     "name": "stdin",
     "output_type": "stream",
     "text": [
      "Enter your name plz anas ghafoor\n",
      "Enter the currant time plz 2\n"
     ]
    },
    {
     "name": "stdout",
     "output_type": "stream",
     "text": [
      "good night anas ghafoor\n"
     ]
    }
   ],
   "source": [
    "def time():\n",
    "    Name=input(\"Enter your name plz\")\n",
    "    current_time=int(input(\"Enter the currant time plz\"))\n",
    "    return Name,current_time\n",
    "def processing( Name,current_time):\n",
    "    if 5<= current_time<12:\n",
    "        print(\"Good morning\",Name)\n",
    "    elif 12<= current_time <=17:\n",
    "        print('Good afternoon',Name)\n",
    "    else:\n",
    "        print(\"good night\",Name)\n",
    "Name,current_time=time()\n",
    "processing(Name,current_time)"
   ]
  },
  {
   "cell_type": "code",
   "execution_count": 4,
   "id": "0925143c-e76f-4efa-ac7f-75f6084ff494",
   "metadata": {},
   "outputs": [
    {
     "name": "stdout",
     "output_type": "stream",
     "text": [
      "The number is even 2\n"
     ]
    },
    {
     "ename": "TypeError",
     "evalue": "'int' object is not callable",
     "output_type": "error",
     "traceback": [
      "\u001b[1;31m---------------------------------------------------------------------------\u001b[0m",
      "\u001b[1;31mTypeError\u001b[0m                                 Traceback (most recent call last)",
      "Cell \u001b[1;32mIn[4], line 5\u001b[0m\n\u001b[0;32m      3\u001b[0m \u001b[38;5;28;01mif\u001b[39;00m i\u001b[38;5;241m%\u001b[39m\u001b[38;5;241m2\u001b[39m\u001b[38;5;241m==\u001b[39m\u001b[38;5;241m0\u001b[39m:\n\u001b[0;32m      4\u001b[0m     \u001b[38;5;28mprint\u001b[39m(\u001b[38;5;124m\"\u001b[39m\u001b[38;5;124mThe number is even\u001b[39m\u001b[38;5;124m\"\u001b[39m,i)\n\u001b[1;32m----> 5\u001b[0m     \u001b[43mcount\u001b[49m\u001b[43m(\u001b[49m\u001b[43mi\u001b[49m\u001b[43m)\u001b[49m\n",
      "\u001b[1;31mTypeError\u001b[0m: 'int' object is not callable"
     ]
    }
   ],
   "source": [
    "for i in range (1,100):\n",
    "    count=0\n",
    "    if i%2==0:\n",
    "        print(\"The number is even\",i)\n",
    "        count(i)"
   ]
  },
  {
   "cell_type": "code",
   "execution_count": null,
   "id": "e20552f6-b9d7-4155-8112-e617bd6606aa",
   "metadata": {},
   "outputs": [],
   "source": []
  }
 ],
 "metadata": {
  "kernelspec": {
   "display_name": "Python 3 (ipykernel)",
   "language": "python",
   "name": "python3"
  },
  "language_info": {
   "codemirror_mode": {
    "name": "ipython",
    "version": 3
   },
   "file_extension": ".py",
   "mimetype": "text/x-python",
   "name": "python",
   "nbconvert_exporter": "python",
   "pygments_lexer": "ipython3",
   "version": "3.12.4"
  }
 },
 "nbformat": 4,
 "nbformat_minor": 5
}
