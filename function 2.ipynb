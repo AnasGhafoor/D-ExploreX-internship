{
 "cells": [
  {
   "cell_type": "code",
   "execution_count": null,
   "id": "a87fd3fe-cdee-407d-9858-0bb2169440ac",
   "metadata": {},
   "outputs": [],
   "source": [
    " Task no 2\n",
    "Grade Calculator: Calculate a student's grade based on their score (out of 100)"
   ]
  },
  {
   "cell_type": "code",
   "execution_count": 2,
   "id": "a7ad422e-ff5c-426f-a71d-efb56ac756de",
   "metadata": {},
   "outputs": [
    {
     "name": "stdin",
     "output_type": "stream",
     "text": [
      "Enter your marks 67\n"
     ]
    },
    {
     "name": "stdout",
     "output_type": "stream",
     "text": [
      "D\n"
     ]
    }
   ],
   "source": [
    "def m_input():\n",
    "    marks=int(input(\"Enter your marks\"))\n",
    "    return marks\n",
    "def calculation(marks):\n",
    "    if(marks>=90):\n",
    "        return(\"A\")\n",
    "    elif(marks>=80):\n",
    "        return(\"B\")\n",
    "    elif(marks>=70):\n",
    "        return(\"C\")\n",
    "    elif(marks>=60):\n",
    "        return(\"D\")\n",
    "    else:\n",
    "        return(\"F\")\n",
    "def outputt():\n",
    "    print(s)\n",
    "marks=m_input()\n",
    "s=calculation(marks)\n",
    "outputt()"
   ]
  },
  {
   "cell_type": "code",
   "execution_count": null,
   "id": "f37e7e28-0836-49c6-981f-a8879d830968",
   "metadata": {},
   "outputs": [],
   "source": []
  },
  {
   "cell_type": "code",
   "execution_count": 4,
   "id": "df1afd55-2b7e-4985-851e-1f1aaf0653e3",
   "metadata": {},
   "outputs": [
    {
     "name": "stdin",
     "output_type": "stream",
     "text": [
      "Enter a year 2004\n"
     ]
    },
    {
     "name": "stdout",
     "output_type": "stream",
     "text": [
      "y is leap Year\n"
     ]
    }
   ],
   "source": [
    "def m_inputt():\n",
    "    y=int(input(\"Enter a year\"))\n",
    "    return y\n",
    "def calculatio(y):    \n",
    "    if(y%4==0):\n",
    "        return(\"y is leap Year\")\n",
    "    else:\n",
    "        return(\"y is not leap Year\") \n",
    "def outputtt(s):\n",
    "    print(s)\n",
    "y=m_inputt()  \n",
    "b=calculatio(y)\n",
    "outputtt(b)"
   ]
  },
  {
   "cell_type": "code",
   "execution_count": null,
   "id": "04066bf3-4f6a-4f12-8e85-a49545a34889",
   "metadata": {},
   "outputs": [],
   "source": []
  },
  {
   "cell_type": "code",
   "execution_count": 6,
   "id": "ac06db9a-645a-47c6-a42a-221e165220ba",
   "metadata": {},
   "outputs": [
    {
     "name": "stdin",
     "output_type": "stream",
     "text": [
      "Enter a number 5\n",
      "Enter a number 7\n"
     ]
    },
    {
     "name": "stdout",
     "output_type": "stream",
     "text": [
      "Y is Grater\n",
      "None\n"
     ]
    }
   ],
   "source": [
    "def m_inputtt():\n",
    "    X=int(input(\"Enter a number\"))\n",
    "    Y=int(input(\"Enter a number\"))\n",
    "    return X,Y\n",
    "def valuee(X,Y):\n",
    "    if(X>Y):\n",
    "        print(\"X is grater\")\n",
    "    else:\n",
    "        print(\"Y is Grater\") \n",
    "def outputtt():\n",
    "    print (s)\n",
    "X,Y=m_inputtt()\n",
    "s=valuee(X,Y)\n",
    "outputtt()"
   ]
  },
  {
   "cell_type": "code",
   "execution_count": null,
   "id": "f396751d-df5c-4862-b438-b5790106cb90",
   "metadata": {},
   "outputs": [],
   "source": [
    "names=input(\"enter the names of member\")\n"
   ]
  },
  {
   "cell_type": "markdown",
   "id": "e8667f24-c981-4b25-b72e-67e97dd48921",
   "metadata": {},
   "source": [
    "task 5:\n",
    "Even/Odd Checker: Check if a number is even or odd."
   ]
  },
  {
   "cell_type": "code",
   "execution_count": null,
   "id": "5987ce31-cf7f-4926-9c96-1f9e9a1cc874",
   "metadata": {},
   "outputs": [],
   "source": [
    "def findd():\n",
    "Number=int(input(\"Enter a number\"))\n",
    "if(Number%2==0):\n",
    "    print(\"Number is Even\")\n",
    "else:\n",
    "    print(\"Number is Odd\")"
   ]
  },
  {
   "cell_type": "code",
   "execution_count": null,
   "id": "c8a2c05f-d705-49b1-9451-ccfabf395f48",
   "metadata": {},
   "outputs": [],
   "source": [
    "Tax Calculator: Calculate tax based on income (tax rate: 10% for income <50,000, 20% otherwise)."
   ]
  },
  {
   "cell_type": "code",
   "execution_count": 6,
   "id": "2e11d4c7-a925-4096-9385-b503d14ff92c",
   "metadata": {},
   "outputs": [
    {
     "ename": "IndentationError",
     "evalue": "expected an indented block after 'if' statement on line 5 (4053798965.py, line 6)",
     "output_type": "error",
     "traceback": [
      "\u001b[1;36m  Cell \u001b[1;32mIn[6], line 6\u001b[1;36m\u001b[0m\n\u001b[1;33m    V=A*0.2\u001b[0m\n\u001b[1;37m    ^\u001b[0m\n\u001b[1;31mIndentationError\u001b[0m\u001b[1;31m:\u001b[0m expected an indented block after 'if' statement on line 5\n"
     ]
    }
   ],
   "source": [
    "def inpu():\n",
    "    A=int(input(\"amount of purchase\"))\n",
    "    return A\n",
    "def proc(A):\n",
    "    if(A>50000):\n",
    "    V=A*0.2\n",
    "    print(\"V\",V)\n",
    "    else:\n",
    "        N=A*0.1\n",
    "        print(\"N\",N)\n",
    "A=inpu\n",
    "s=proc(A)"
   ]
  },
  {
   "cell_type": "code",
   "execution_count": null,
   "id": "b8bce338-eb51-4e78-be42-ec90557161a6",
   "metadata": {},
   "outputs": [],
   "source": []
  }
 ],
 "metadata": {
  "kernelspec": {
   "display_name": "Python 3 (ipykernel)",
   "language": "python",
   "name": "python3"
  },
  "language_info": {
   "codemirror_mode": {
    "name": "ipython",
    "version": 3
   },
   "file_extension": ".py",
   "mimetype": "text/x-python",
   "name": "python",
   "nbconvert_exporter": "python",
   "pygments_lexer": "ipython3",
   "version": "3.12.4"
  }
 },
 "nbformat": 4,
 "nbformat_minor": 5
}
