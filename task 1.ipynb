{
 "cells": [
  {
   "cell_type": "code",
   "execution_count": 5,
   "id": "8bc2093c-43a2-4cc7-a644-8ecf82ea100c",
   "metadata": {},
   "outputs": [
    {
     "name": "stdout",
     "output_type": "stream",
     "text": [
      "there once was a movie star icon\n",
      "who preferred to sleep with the light on.\n",
      "They learned how to code \n",
      "a device that sure glowed\n",
      "and lit up the night using python!\n"
     ]
    }
   ],
   "source": [
    "print(\"there once was a movie star icon\\nwho preferred to sleep with the light on.\\nThey learned how to code \\na device that sure glowed\\nand lit up the night using python!\")"
   ]
  },
  {
   "cell_type": "code",
   "execution_count": 6,
   "id": "ee0b981f-ee9f-4243-89ed-4c7b79f0605c",
   "metadata": {},
   "outputs": [
    {
     "name": "stdout",
     "output_type": "stream",
     "text": [
      "there once was a movie star icon\n",
      "who preferred to sleep with the light on.\n",
      "They learned how to code \n",
      "a device that sure glowed\n",
      "and lit up the night using python!\n"
     ]
    }
   ],
   "source": [
    "print(\"\"\"there once was a movie star icon\n",
    "who preferred to sleep with the light on.\n",
    "They learned how to code \n",
    "a device that sure glowed\n",
    "and lit up the night using python!\"\"\")"
   ]
  },
  {
   "cell_type": "code",
   "execution_count": null,
   "id": "2ce403f3-b861-4927-858d-f24b3ddda56f",
   "metadata": {},
   "outputs": [],
   "source": []
  }
 ],
 "metadata": {
  "kernelspec": {
   "display_name": "Python 3 (ipykernel)",
   "language": "python",
   "name": "python3"
  },
  "language_info": {
   "codemirror_mode": {
    "name": "ipython",
    "version": 3
   },
   "file_extension": ".py",
   "mimetype": "text/x-python",
   "name": "python",
   "nbconvert_exporter": "python",
   "pygments_lexer": "ipython3",
   "version": "3.12.4"
  }
 },
 "nbformat": 4,
 "nbformat_minor": 5
}
